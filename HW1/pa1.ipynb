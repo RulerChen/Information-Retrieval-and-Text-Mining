{
 "cells": [
  {
   "cell_type": "code",
   "execution_count": 14,
   "metadata": {},
   "outputs": [],
   "source": [
    "from nltk.stem import PorterStemmer\n",
    "import re"
   ]
  },
  {
   "cell_type": "code",
   "execution_count": 15,
   "metadata": {},
   "outputs": [],
   "source": [
    "def preprocessing(document):\n",
    "    tokens = document.split() \n",
    "    lowercase_tokens = [token.lower() for token in tokens] \n",
    "\n",
    "    stopwords = set()\n",
    "    with open('./stopwords.txt', 'r', encoding='utf-8') as stopword_file:\n",
    "        stopwords = set(stopword_file.read().splitlines())\n",
    "    filtered_tokens = [token for token in lowercase_tokens if token not in stopwords]\n",
    "\n",
    "    filtered_tokens_without_endings = [re.sub(r'[,.!?\"@()%`\\':;{}$&*-]+', '', token) for token in filtered_tokens]\n",
    "    filtered_tokens_without_endings = [token for token in filtered_tokens_without_endings if token != '']\n",
    "\n",
    "    stemmer = PorterStemmer()\n",
    "    stemmed_tokens = [stemmer.stem(token) for token in filtered_tokens_without_endings]\n",
    "    stemmed_tokens = [token for token in stemmed_tokens if token not in stopwords]\n",
    "\n",
    "    tokens = [token for token in stemmed_tokens if not token.isdigit() and len(token) > 1]\n",
    "    \n",
    "    return tokens"
   ]
  },
  {
   "cell_type": "code",
   "execution_count": 16,
   "metadata": {},
   "outputs": [],
   "source": [
    "with open('input.txt', 'r', encoding='utf-8') as file:\n",
    "    text = file.read()\n",
    "    tokens = preprocessing(text)\n",
    "    with open('result.txt', 'w', encoding='utf-8') as file:\n",
    "        file.write(' '.join(tokens))"
   ]
  }
 ],
 "metadata": {
  "kernelspec": {
   "display_name": "Python 3",
   "language": "python",
   "name": "python3"
  },
  "language_info": {
   "codemirror_mode": {
    "name": "ipython",
    "version": 3
   },
   "file_extension": ".py",
   "mimetype": "text/x-python",
   "name": "python",
   "nbconvert_exporter": "python",
   "pygments_lexer": "ipython3",
   "version": "3.11.5"
  },
  "orig_nbformat": 4
 },
 "nbformat": 4,
 "nbformat_minor": 2
}
