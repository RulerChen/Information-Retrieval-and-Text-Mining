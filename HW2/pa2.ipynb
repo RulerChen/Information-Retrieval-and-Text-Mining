{
 "cells": [
  {
   "cell_type": "code",
   "execution_count": 19,
   "metadata": {},
   "outputs": [],
   "source": [
    "from nltk.stem import PorterStemmer\n",
    "import numpy as np\n",
    "import re\n",
    "import os"
   ]
  },
  {
   "cell_type": "code",
   "execution_count": 20,
   "metadata": {},
   "outputs": [],
   "source": [
    "def preprocessing(document):\n",
    "    tokens = document.split() \n",
    "    lowercase_tokens = [token.lower() for token in tokens] \n",
    "\n",
    "    stopwords = set()\n",
    "    with open('./stopwords.txt', 'r', encoding='utf-8') as stopword_file:\n",
    "        stopwords = set(stopword_file.read().splitlines())\n",
    "    filtered_tokens = [token for token in lowercase_tokens if token not in stopwords]\n",
    "\n",
    "    filtered_tokens_without_endings = [re.sub(r'[,.!?\"@()%`\\':;{}$&*-]+', '', token) for token in filtered_tokens]\n",
    "    filtered_tokens_without_endings = [token for token in filtered_tokens_without_endings if token != '']\n",
    "\n",
    "    stemmer = PorterStemmer()\n",
    "    stemmed_tokens = [stemmer.stem(token) for token in filtered_tokens_without_endings]\n",
    "    stemmed_tokens = [token for token in stemmed_tokens if token not in stopwords]\n",
    "\n",
    "    tokens = [token for token in stemmed_tokens if not token.isdigit() and len(token) > 1]\n",
    "    \n",
    "    return tokens"
   ]
  },
  {
   "cell_type": "code",
   "execution_count": 21,
   "metadata": {},
   "outputs": [],
   "source": [
    "def tokenize(documents):\n",
    "    dictionary_tokens = dict()\n",
    "    for document in documents:\n",
    "        stemmed_tokens = preprocessing(document)\n",
    "\n",
    "        stemmed_tokens = list(set(stemmed_tokens))\n",
    "\n",
    "        # count df\n",
    "        for word in stemmed_tokens:\n",
    "            if word in dictionary_tokens:\n",
    "                dictionary_tokens[word] += 1\n",
    "            else:\n",
    "                dictionary_tokens[word] = 1\n",
    "    \n",
    "    sorted_dictionary = {k: v for k, v in sorted(dictionary_tokens.items())}\n",
    "\n",
    "    with open('dictionary.txt', 'w', encoding='utf-8') as file:\n",
    "        file.write(\"{:<10} {:<20} {}\\n\".format(\"t_index\", \"term\", \"df\"))\n",
    "        for index, token in enumerate(sorted_dictionary):\n",
    "            file.write(\"{:<10} {:<20} {}\\n\".format(index + 1, token, sorted_dictionary[token]))\n",
    "\n",
    "    return sorted_dictionary"
   ]
  },
  {
   "cell_type": "code",
   "execution_count": 22,
   "metadata": {},
   "outputs": [],
   "source": [
    "def calculate_tf_idf(document, dictionary, i):\n",
    "    tokens = preprocessing(document)\n",
    "    tf = dict()\n",
    "    for token in tokens:\n",
    "        if token in tf:\n",
    "            tf[token] += 1\n",
    "        else:\n",
    "            tf[token] = 1\n",
    "    \n",
    "    # calculate tf-idf\n",
    "    tf_idf = dict()\n",
    "    for token in tf:\n",
    "        tf_idf[token] = tf[token] * np.log10(1095/dictionary[token])\n",
    "\n",
    "    # calculate unit vector\n",
    "    tf_idf_length = np.linalg.norm(list(tf_idf.values()))\n",
    "    tf_idf_unit_vector = {token: tf_idf_value / tf_idf_length for token, tf_idf_value in tf_idf.items()}\n",
    "\n",
    "    if not os.path.exists('./output'):\n",
    "        os.makedirs('./output')\n",
    "\n",
    "    with open(f\"./output/{i}.txt\", 'w', encoding='utf-8') as file:\n",
    "        file.write(str(len(tf_idf_unit_vector)) + '\\n')\n",
    "        file.write(\"{:<10} {:<20} \\n\".format(\"t_index\", \"tf-idf\"))\n",
    "        for index, token in enumerate(dictionary):\n",
    "            if token in tf_idf:\n",
    "                file.write(\"{:<10} {:<20} \\n\".format(index + 1, tf_idf_unit_vector[token]))\n",
    "\n",
    "    return tf_idf_unit_vector"
   ]
  },
  {
   "cell_type": "code",
   "execution_count": 23,
   "metadata": {},
   "outputs": [],
   "source": [
    "def cosine(tf_idf_unit_vector_1, tf_idf_unit_vector_2):\n",
    "    # calculate cosine similarity\n",
    "    dot_product = sum(tf_idf_unit_vector_1[token] * tf_idf_unit_vector_2[token] for token in tf_idf_unit_vector_1 if token in tf_idf_unit_vector_2)\n",
    "    \n",
    "    norm_x = np.linalg.norm(list(tf_idf_unit_vector_1.values()))\n",
    "    norm_y = np.linalg.norm(list(tf_idf_unit_vector_2.values()))\n",
    "    \n",
    "    similarity = dot_product / (norm_x * norm_y)\n",
    "    \n",
    "    return similarity"
   ]
  },
  {
   "cell_type": "code",
   "execution_count": 24,
   "metadata": {},
   "outputs": [
    {
     "name": "stdout",
     "output_type": "stream",
     "text": [
      "0.19759255157392572\n"
     ]
    }
   ],
   "source": [
    "documents = []\n",
    "\n",
    "# read all documents\n",
    "for i in range(1, 1096):\n",
    "    with open(f\"./data/{i}.txt\", \"r\", encoding=\"utf-8\") as file:\n",
    "        text = file.read()\n",
    "        documents.append(text)\n",
    "\n",
    "# tokenize all documents\n",
    "dictionary = tokenize(documents)\n",
    "\n",
    "# calculate tf-idf for all documents\n",
    "tf_idf_matrix = []\n",
    "for i in range(1, 1096):\n",
    "    tf_idf_matrix.append(calculate_tf_idf(documents[i - 1], dictionary, i))\n",
    "\n",
    "# calculate cosine similarity between document 1 and 2\n",
    "consine_result = cosine(tf_idf_matrix[0], tf_idf_matrix[1])\n",
    "print(consine_result)"
   ]
  }
 ],
 "metadata": {
  "kernelspec": {
   "display_name": "Python 3",
   "language": "python",
   "name": "python3"
  },
  "language_info": {
   "codemirror_mode": {
    "name": "ipython",
    "version": 3
   },
   "file_extension": ".py",
   "mimetype": "text/x-python",
   "name": "python",
   "nbconvert_exporter": "python",
   "pygments_lexer": "ipython3",
   "version": "3.11.5"
  },
  "orig_nbformat": 4
 },
 "nbformat": 4,
 "nbformat_minor": 2
}
